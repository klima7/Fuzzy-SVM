{
 "cells": [
  {
   "cell_type": "markdown",
   "id": "058b5ae3-efa8-42a2-90ab-e9c57e0d1cc0",
   "metadata": {
    "tags": [],
    "pycharm": {
     "name": "#%% md\n"
    }
   },
   "source": [
    "# SVM"
   ]
  },
  {
   "cell_type": "code",
   "execution_count": 188,
   "id": "0a2d1730-b3cc-4959-a8ba-afcd224796fa",
   "metadata": {
    "pycharm": {
     "name": "#%%\n"
    }
   },
   "outputs": [],
   "source": [
    "import random\n",
    "import numpy as np\n",
    "import pandas as pd\n",
    "import matplotlib.pyplot as plt"
   ]
  },
  {
   "cell_type": "code",
   "execution_count": 189,
   "outputs": [],
   "source": [
    "seed = 45"
   ],
   "metadata": {
    "collapsed": false,
    "pycharm": {
     "name": "#%%\n"
    }
   }
  },
  {
   "cell_type": "markdown",
   "id": "f5db444b-e5f4-4642-ab9f-bbfaed04efa8",
   "metadata": {
    "pycharm": {
     "name": "#%% md\n"
    }
   },
   "source": [
    "## Data generation"
   ]
  },
  {
   "cell_type": "code",
   "execution_count": 190,
   "id": "6cc6df3a-4955-4b78-b604-cc1869dd7b54",
   "metadata": {
    "pycharm": {
     "name": "#%%\n"
    }
   },
   "outputs": [],
   "source": [
    "from sklearn.datasets import make_moons\n",
    "\n",
    "data_x, data_y = make_moons(n_samples=72, noise=0.3, random_state=seed+3)\n",
    "data_s = [random.random() for x, y in zip(data_x, data_y)]\n",
    "\n",
    "data = {\n",
    "    'x': data_x,\n",
    "    'y': data_y,\n",
    "    's': data_s,\n",
    "}"
   ]
  },
  {
   "cell_type": "code",
   "execution_count": 191,
   "id": "e817ee90-a9f2-4daa-b700-e283cfbca95c",
   "metadata": {
    "pycharm": {
     "name": "#%%\n"
    }
   },
   "outputs": [
    {
     "data": {
      "text/plain": "<Figure size 576x432 with 1 Axes>",
      "image/png": "[encoded data removed]"
     },
     "metadata": {
      "needs_background": "light"
     },
     "output_type": "display_data"
    }
   ],
   "source": [
    "_, ax = plt.subplots(figsize=(8, 6))\n",
    "\n",
    "scatter = ax.scatter(data['x'][:,0], data['x'][:,1], c=data['y'], alpha=data['s'])\n",
    "ax.set_xlabel('Cecha 1')\n",
    "ax.set_ylabel('Cecha 2')\n",
    "ax.grid()\n",
    "ax.set_title('Wizualizacja danych');"
   ]
  },
  {
   "cell_type": "markdown",
   "id": "aabf4357-80da-40cd-81d2-2fbd42c5a842",
   "metadata": {
    "pycharm": {
     "name": "#%% md\n"
    }
   },
   "source": [
    "## Crisp SVM implementation"
   ]
  },
  {
   "cell_type": "code",
   "execution_count": 140,
   "id": "b0ab49bf-b9e1-4c3f-b64f-2371bc13b50b",
   "metadata": {
    "pycharm": {
     "name": "#%%\n"
    }
   },
   "outputs": [],
   "source": [
    "from sklearn.base import BaseEstimator, ClassifierMixin\n",
    "from sklearn.model_selection import train_test_split\n",
    "from scipy.sparse import issparse\n",
    "from scipy.optimize import minimize\n",
    "from numpy.random import RandomState\n",
    "from itertools import product\n",
    "from scipy.optimize import LinearConstraint\n",
    "\n",
    "\n",
    "class CrispSVM(BaseEstimator, ClassifierMixin):\n",
    "\n",
    "    def __init__(self, C=1, kernel='linear', degree=3, coef0=0, gamma=1,\n",
    "                 max_samples=100, tol=None, max_iter=10, random_state=None, disp=False):\n",
    "        self.C = C\n",
    "        self.kernel = kernel\n",
    "        self.degree = degree\n",
    "        self.coef0 = coef0\n",
    "        self.gamma = gamma\n",
    "        self.max_samples = max_samples\n",
    "        self.tol = tol\n",
    "        self.max_iter = max_iter\n",
    "        self.random_state = random_state\n",
    "        self.disp = disp\n",
    "        \n",
    "        self.kernel_fun = self._get_kernel_fun_by_name(kernel)\n",
    "        self.rs = RandomState(random_state)\n",
    "        \n",
    "        self.alphas = None\n",
    "        self.X = None\n",
    "        self.y = None\n",
    "        self.b = None\n",
    "\n",
    "    def fit(self, X, y):\n",
    "        # replaces 0 labels with -1\n",
    "        y = y.flatten()\n",
    "        y = np.copy(y)\n",
    "        y[y == 0] = -1\n",
    "\n",
    "        # convert to dense array\n",
    "        if issparse(X):\n",
    "            X = X.A\n",
    "            \n",
    "        # sample data\n",
    "        X, y = self._sample_xy(X, y)\n",
    "\n",
    "        # minimization\n",
    "        initial_alphas = np.repeat(0, X.shape[0])\n",
    "        alphas_bounds = [(0, self.C) for _ in range(X.shape[0])]\n",
    "        constraint1 = LinearConstraint(y, 0, 0)\n",
    "        res = minimize(\n",
    "            self._loss,\n",
    "            initial_alphas,\n",
    "            method='trust-constr',\n",
    "            args=(X, y, self.kernel_fun),\n",
    "            bounds=alphas_bounds,\n",
    "            constraints=(constraint1,),\n",
    "            tol=self.tol,\n",
    "            options={'maxiter': self.max_iter, 'disp': self.disp}\n",
    "        )\n",
    "        alphas = res.x.ravel()\n",
    "\n",
    "        # save results\n",
    "        self.alphas = alphas\n",
    "        self.X = X\n",
    "        self.y = y\n",
    "        self.b = self._calc_bias(alphas, y, X, self.kernel_fun)\n",
    "\n",
    "        return self\n",
    "    \n",
    "    def _sample_xy(self, X, y):\n",
    "        n_samples = min(X.shape[0], self.max_samples)\n",
    "        sampled_X, _, sampled_y, _ = train_test_split(\n",
    "            X, y,\n",
    "            train_size=n_samples,\n",
    "            stratify=y,\n",
    "            random_state=self.rs\n",
    "        )\n",
    "        return sampled_X, sampled_y\n",
    "\n",
    "    @staticmethod\n",
    "    def _loss(v, X, ys, kernel_fun):\n",
    "        alphas = v.flatten()\n",
    "        n = alphas.size\n",
    "\n",
    "        s = 0\n",
    "        for i, j in product(range(n), range(n)):\n",
    "            s += alphas[i]*alphas[j]*ys[i]*ys[j]*kernel_fun(X[i], X[j])\n",
    "        return s - np.sum(alphas)\n",
    "\n",
    "    @staticmethod\n",
    "    def _calc_bias(alphas, ys, xs, kernel):\n",
    "        n = xs.shape[0]\n",
    "        outer_sum = 0\n",
    "        for i in range(n):\n",
    "            inner_sum_parts_generator = (alphas[j] * ys[j] * kernel(xs[i], xs[j]) for j in range(n))\n",
    "            inner_sum = sum(inner_sum_parts_generator)\n",
    "            outer_sum_part = ys[i] - inner_sum\n",
    "            outer_sum += outer_sum_part\n",
    "        return outer_sum / n\n",
    "    \n",
    "    def _get_kernel_fun_by_name(self, kernel_name):\n",
    "        if kernel_name == 'linear':\n",
    "            return self._kernel_linear\n",
    "        elif kernel_name == 'poly':\n",
    "            return self._kernel_poly\n",
    "        elif kernel_name == 'rbf':\n",
    "            return self._kernel_rbf\n",
    "    \n",
    "    def _kernel_linear(self, a, b):\n",
    "        return a@b\n",
    "    \n",
    "    def _kernel_poly(self, a, b):\n",
    "        return (a@b + self.coef0) ** self.degree\n",
    "    \n",
    "    def _kernel_rbf(self, a, b):\n",
    "        diff = a-b\n",
    "        magnitude = np.sqrt(diff@diff)\n",
    "        return np.exp(-self.gamma*magnitude)\n",
    "\n",
    "    def decision_function(self, X):\n",
    "        n = self.X.shape[0]\n",
    "        kernel_fun = np.vectorize(self.kernel_fun, signature='(n),(n)->()')\n",
    "        sum_parts = (self.alphas[i] * self.y[i] * kernel_fun(self.X[i], X) for i in range(n))\n",
    "        sum_value = sum(sum_parts)\n",
    "        result = sum_value + self.b\n",
    "        return result.ravel()\n",
    "\n",
    "    def predict(self, X):\n",
    "        return self.decision_function(X) > 0"
   ]
  },
  {
   "cell_type": "markdown",
   "source": [
    "## FuzzySVM implementation"
   ],
   "metadata": {
    "collapsed": false,
    "pycharm": {
     "name": "#%% md\n"
    }
   }
  },
  {
   "cell_type": "code",
   "execution_count": 117,
   "outputs": [],
   "source": [
    "from sklearn.base import BaseEstimator, ClassifierMixin\n",
    "from sklearn.model_selection import train_test_split\n",
    "from scipy.sparse import issparse\n",
    "from scipy.optimize import minimize\n",
    "from numpy.random import RandomState\n",
    "from itertools import product\n",
    "from scipy.optimize import LinearConstraint\n",
    "\n",
    "\n",
    "class FuzzySVM(BaseEstimator, ClassifierMixin):\n",
    "\n",
    "    def __init__(self, C=1, kernel='linear', degree=3, coef0=0, gamma=1,\n",
    "                 max_samples=100, tol=None, max_iter=10, random_state=None, disp=False):\n",
    "        self.C = C\n",
    "        self.kernel = kernel\n",
    "        self.degree = degree\n",
    "        self.coef0 = coef0\n",
    "        self.gamma = gamma\n",
    "        self.max_samples = max_samples\n",
    "        self.tol = tol\n",
    "        self.max_iter = max_iter\n",
    "        self.random_state = random_state\n",
    "        self.disp = disp\n",
    "\n",
    "        self.kernel_fun = self._get_kernel_fun_by_name(kernel)\n",
    "        self.rs = RandomState(random_state)\n",
    "\n",
    "        self.alphas = None\n",
    "        self.X = None\n",
    "        self.y = None\n",
    "        self.b = None\n",
    "\n",
    "    def fit(self, X, ys):\n",
    "        y = ys[:, 0]\n",
    "        s = ys[:, 1]\n",
    "\n",
    "        # replaces 0 labels with -1\n",
    "        y = y.flatten()\n",
    "        y = np.copy(y)\n",
    "        y[y == 0] = -1\n",
    "\n",
    "        # convert to dense array\n",
    "        if issparse(X):\n",
    "            X = X.A\n",
    "\n",
    "        # sample data\n",
    "        X, y = self._sample_xy(X, y)\n",
    "\n",
    "        # minimization\n",
    "        initial_alphas = np.repeat(0, X.shape[0])\n",
    "        alphas_bounds = [(0, s[i] * self.C) for i in range(X.shape[0])]\n",
    "        constraint1 = LinearConstraint(y, 0, 0)\n",
    "        res = minimize(\n",
    "            self._loss,\n",
    "            initial_alphas,\n",
    "            method='trust-constr',\n",
    "            args=(X, y, self.kernel_fun),\n",
    "            bounds=alphas_bounds,\n",
    "            constraints=(constraint1,),\n",
    "            tol=self.tol,\n",
    "            options={'maxiter': self.max_iter, 'disp': self.disp}\n",
    "        )\n",
    "        alphas = res.x.ravel()\n",
    "\n",
    "        # save results\n",
    "        self.alphas = alphas\n",
    "        self.X = X\n",
    "        self.y = y\n",
    "        self.b = self._calc_bias(alphas, y, X, self.kernel_fun)\n",
    "\n",
    "        return self\n",
    "\n",
    "    def _sample_xy(self, X, y):\n",
    "        n_samples = min(X.shape[0], self.max_samples)\n",
    "        sampled_X, _, sampled_y, _ = train_test_split(\n",
    "            X, y,\n",
    "            train_size=n_samples,\n",
    "            stratify=y,\n",
    "            random_state=self.rs\n",
    "        )\n",
    "        return sampled_X, sampled_y\n",
    "\n",
    "    @staticmethod\n",
    "    def _loss(v, X, ys, kernel_fun):\n",
    "        alphas = v.flatten()\n",
    "        n = alphas.size\n",
    "\n",
    "        s = 0\n",
    "        for i, j in product(range(n), range(n)):\n",
    "            s += alphas[i]*alphas[j]*ys[i]*ys[j]*kernel_fun(X[i], X[j])\n",
    "        return 0.5 * s - np.sum(alphas)\n",
    "\n",
    "    @staticmethod\n",
    "    def _calc_bias(alphas, ys, xs, kernel):\n",
    "        n = xs.shape[0]\n",
    "        outer_sum = 0\n",
    "        for i in range(n):\n",
    "            inner_sum_parts_generator = (alphas[j] * ys[j] * kernel(xs[i], xs[j]) for j in range(n))\n",
    "            inner_sum = sum(inner_sum_parts_generator)\n",
    "            outer_sum_part = ys[i] - inner_sum\n",
    "            outer_sum += outer_sum_part\n",
    "        return outer_sum / n\n",
    "\n",
    "    def _get_kernel_fun_by_name(self, kernel_name):\n",
    "        if kernel_name == 'linear':\n",
    "            return self._kernel_linear\n",
    "        elif kernel_name == 'poly':\n",
    "            return self._kernel_poly\n",
    "        elif kernel_name == 'rbf':\n",
    "            return self._kernel_rbf\n",
    "\n",
    "    def _kernel_linear(self, a, b):\n",
    "        return a@b\n",
    "\n",
    "    def _kernel_poly(self, a, b):\n",
    "        return (a@b + self.coef0) ** self.degree\n",
    "\n",
    "    def _kernel_rbf(self, a, b):\n",
    "        diff = a-b\n",
    "        magnitude = np.sqrt(diff@diff)\n",
    "        return np.exp(-self.gamma*magnitude)\n",
    "\n",
    "    def decision_function(self, X):\n",
    "        n = self.X.shape[0]\n",
    "        kernel_fun = np.vectorize(self.kernel_fun, signature='(n),(n)->()')\n",
    "        sum_parts = (self.alphas[i] * self.y[i] * kernel_fun(self.X[i], X) for i in range(n))\n",
    "        sum_value = sum(sum_parts)\n",
    "        result = sum_value + self.b\n",
    "        return result.ravel()\n",
    "\n",
    "    def predict(self, X):\n",
    "        return self.decision_function(X) > 0"
   ],
   "metadata": {
    "collapsed": false,
    "pycharm": {
     "name": "#%%\n"
    }
   }
  },
  {
   "cell_type": "markdown",
   "source": [
    "## Crip SVM test"
   ],
   "metadata": {
    "collapsed": false,
    "pycharm": {
     "name": "#%% md\n"
    }
   }
  },
  {
   "cell_type": "markdown",
   "source": [
    "#### Learning"
   ],
   "metadata": {
    "collapsed": false,
    "pycharm": {
     "name": "#%% md\n"
    }
   }
  },
  {
   "cell_type": "code",
   "execution_count": 192,
   "outputs": [
    {
     "name": "stdout",
     "output_type": "stream",
     "text": [
      "Fit time: 273.58\n"
     ]
    }
   ],
   "source": [
    "from sklearn.preprocessing import MinMaxScaler\n",
    "from sklearn.pipeline import make_pipeline\n",
    "from time import time\n",
    "\n",
    "crisp_svm = make_pipeline(\n",
    "    MinMaxScaler(),\n",
    "    CrispSVM(kernel='poly', degree=3, coef0=1, C=50, max_samples=70, max_iter=400, tol=1e-20)\n",
    ")\n",
    "\n",
    "start = time()\n",
    "crisp_svm.fit(data['x'], data['y'])\n",
    "print(f'Fit time: {time()-start:.2f}')"
   ],
   "metadata": {
    "collapsed": false,
    "pycharm": {
     "name": "#%%\n"
    }
   }
  },
  {
   "cell_type": "markdown",
   "source": [
    "#### Decision surface"
   ],
   "metadata": {
    "collapsed": false,
    "pycharm": {
     "name": "#%% md\n"
    }
   }
  },
  {
   "cell_type": "code",
   "execution_count": 193,
   "outputs": [
    {
     "data": {
      "text/plain": "<Figure size 576x576 with 1 Axes>",
      "image/png": "[encoded data removed]"
     },
     "metadata": {
      "needs_background": "light"
     },
     "output_type": "display_data"
    }
   ],
   "source": [
    "fig, ax = plt.subplots(1, 1, figsize=(8, 8))\n",
    "\n",
    "resolution = 150\n",
    "margin = 0.2\n",
    "\n",
    "x1 = data['x'][:,0].min() - margin\n",
    "x2 = data['x'][:,0].max() + margin\n",
    "y1 = data['x'][:,1].min() - margin\n",
    "y2 = data['x'][:,1].max() + margin\n",
    "\n",
    "space = np.meshgrid(np.linspace(x1, x2, resolution), np.linspace(y1, y2, resolution))\n",
    "predictions_syn2 = crisp_svm.predict(np.dstack([*space]).reshape(-1, 2)).reshape(resolution, resolution)\n",
    "\n",
    "ax.contourf(space[0], space[1], predictions_syn2, alpha=0.2)\n",
    "ax.scatter(data['x'][:,0], data['x'][:,1], c=data['y'], alpha=data['s'])\n",
    "\n",
    "ax.set_xlabel('Cecha 1')\n",
    "ax.set_ylabel('Cecha 2')\n",
    "ax.set_title(f'Decision surface visualization')\n",
    "ax.grid()"
   ],
   "metadata": {
    "collapsed": false,
    "pycharm": {
     "name": "#%%\n"
    }
   }
  },
  {
   "cell_type": "markdown",
   "source": [
    "## Fuzzy SVM test"
   ],
   "metadata": {
    "collapsed": false,
    "pycharm": {
     "name": "#%% md\n"
    }
   }
  },
  {
   "cell_type": "markdown",
   "source": [
    "#### Learning"
   ],
   "metadata": {
    "collapsed": false,
    "pycharm": {
     "name": "#%% md\n"
    }
   }
  },
  {
   "cell_type": "code",
   "execution_count": 194,
   "outputs": [
    {
     "name": "stderr",
     "output_type": "stream",
     "text": [
      "C:\\Users\\Lukasz\\anaconda3\\lib\\site-packages\\scipy\\optimize\\_hessian_update_strategy.py:182: UserWarning: delta_grad == 0.0. Check if the approximated function is linear. If the function is linear better results can be obtained by defining the Hessian as zero instead of using quasi-Newton approximations.\n",
      "  warn('delta_grad == 0.0. Check if the approximated '\n"
     ]
    },
    {
     "name": "stdout",
     "output_type": "stream",
     "text": [
      "Fit time: 232.34\n"
     ]
    }
   ],
   "source": [
    "from sklearn.preprocessing import MinMaxScaler\n",
    "from sklearn.pipeline import make_pipeline\n",
    "from time import time\n",
    "\n",
    "fuzzy_svm = make_pipeline(\n",
    "    MinMaxScaler(),\n",
    "    FuzzySVM(kernel='poly', degree=3, coef0=1, C=50, max_samples=70, max_iter=400, tol=1e-20)\n",
    ")\n",
    "\n",
    "start = time()\n",
    "fuzzy_svm.fit(data['x'], np.column_stack([data['y'], data['s']]))\n",
    "print(f'Fit time: {time()-start:.2f}')"
   ],
   "metadata": {
    "collapsed": false,
    "pycharm": {
     "name": "#%%\n"
    }
   }
  },
  {
   "cell_type": "markdown",
   "source": [
    "#### Decision surface"
   ],
   "metadata": {
    "collapsed": false,
    "pycharm": {
     "name": "#%% md\n"
    }
   }
  },
  {
   "cell_type": "code",
   "execution_count": 195,
   "outputs": [
    {
     "data": {
      "text/plain": "<Figure size 576x576 with 1 Axes>",
      "image/png": "[encoded data removed]"
     },
     "metadata": {
      "needs_background": "light"
     },
     "output_type": "display_data"
    }
   ],
   "source": [
    "\n",
    "_, ax = plt.subplots(1, 1, figsize=(8, 8))\n",
    "\n",
    "resolution = 100\n",
    "margin = 0.2\n",
    "\n",
    "x1 = data['x'][:,0].min() - margin\n",
    "x2 = data['x'][:,0].max() + margin\n",
    "y1 = data['x'][:,1].min() - margin\n",
    "y2 = data['x'][:,1].max() + margin\n",
    "\n",
    "space = np.meshgrid(np.linspace(x1, x2, resolution), np.linspace(y1, y2, resolution))\n",
    "predictions_syn2 = fuzzy_svm.predict(np.dstack([*space]).reshape(-1, 2)).reshape(resolution, resolution)\n",
    "\n",
    "ax.contourf(space[0], space[1], predictions_syn2, alpha=0.2)\n",
    "ax.scatter(data['x'][:,0], data['x'][:,1], c=data['y'], alpha=data['s'])\n",
    "\n",
    "ax.set_xlabel('Cecha 1')\n",
    "ax.set_ylabel('Cecha 2')\n",
    "ax.set_title(f'Decision surface visualization')\n",
    "ax.grid()"
   ],
   "metadata": {
    "collapsed": false,
    "pycharm": {
     "name": "#%%\n"
    }
   }
  }
 ],
 "metadata": {
  "kernelspec": {
   "display_name": "Python 3 (ipykernel)",
   "language": "python",
   "name": "python3"
  },
  "language_info": {
   "codemirror_mode": {
    "name": "ipython",
    "version": 3
   },
   "file_extension": ".py",
   "mimetype": "text/x-python",
   "name": "python",
   "nbconvert_exporter": "python",
   "pygments_lexer": "ipython3",
   "version": "3.9.7"
  }
 },
 "nbformat": 4,
 "nbformat_minor": 5
}